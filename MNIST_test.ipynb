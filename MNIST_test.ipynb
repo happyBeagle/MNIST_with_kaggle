{
  "nbformat": 4,
  "nbformat_minor": 0,
  "metadata": {
    "colab": {
      "name": "MNIST_test.ipynb",
      "provenance": [],
      "collapsed_sections": [],
      "authorship_tag": "ABX9TyOJH2eqf1NEci7bgmOaSNUN",
      "include_colab_link": true
    },
    "kernelspec": {
      "display_name": "Python 3",
      "name": "python3"
    }
  },
  "cells": [
    {
      "cell_type": "markdown",
      "metadata": {
        "id": "view-in-github",
        "colab_type": "text"
      },
      "source": [
        "<a href=\"https://colab.research.google.com/github/happyBeagle/MNIST_with_kaggle/blob/main/MNIST_test.ipynb\" target=\"_parent\"><img src=\"https://colab.research.google.com/assets/colab-badge.svg\" alt=\"Open In Colab\"/></a>"
      ]
    },
    {
      "cell_type": "code",
      "metadata": {
        "colab": {
          "base_uri": "https://localhost:8080/"
        },
        "id": "bwlPmU1WU8kB",
        "outputId": "903c5c23-589c-4531-8f68-2d0901caa886"
      },
      "source": [
        "!git clone https://github.com/happyBeagle/MNIST_with_kaggle.git\r\n",
        "!ls\r\n",
        "!cd MNIST_with_kaggle/"
      ],
      "execution_count": 1,
      "outputs": [
        {
          "output_type": "stream",
          "text": [
            "Cloning into 'MNIST_with_kaggle'...\n",
            "remote: Enumerating objects: 6, done.\u001b[K\n",
            "remote: Counting objects: 100% (6/6), done.\u001b[K\n",
            "remote: Compressing objects: 100% (4/4), done.\u001b[K\n",
            "remote: Total 6 (delta 0), reused 0 (delta 0), pack-reused 0\u001b[K\n",
            "Unpacking objects: 100% (6/6), done.\n",
            "MNIST_with_kaggle  sample_data\n"
          ],
          "name": "stdout"
        }
      ]
    },
    {
      "cell_type": "code",
      "metadata": {
        "colab": {
          "resources": {
            "http://localhost:8080/nbextensions/google.colab/files.js": {
              "data": "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",
              "ok": true,
              "headers": [
                [
                  "content-type",
                  "application/javascript"
                ]
              ],
              "status": 200,
              "status_text": ""
            }
          },
          "base_uri": "https://localhost:8080/",
          "height": 289
        },
        "id": "4UXxVBl_JlrC",
        "outputId": "8cd3a18a-5711-44e6-a638-2809bee17101"
      },
      "source": [
        "!pip install kaggle\r\n",
        "from google.colab import files\r\n",
        "files.upload()"
      ],
      "execution_count": 2,
      "outputs": [
        {
          "output_type": "stream",
          "text": [
            "Requirement already satisfied: kaggle in /usr/local/lib/python3.6/dist-packages (1.5.10)\n",
            "Requirement already satisfied: python-dateutil in /usr/local/lib/python3.6/dist-packages (from kaggle) (2.8.1)\n",
            "Requirement already satisfied: tqdm in /usr/local/lib/python3.6/dist-packages (from kaggle) (4.41.1)\n",
            "Requirement already satisfied: urllib3 in /usr/local/lib/python3.6/dist-packages (from kaggle) (1.24.3)\n",
            "Requirement already satisfied: six>=1.10 in /usr/local/lib/python3.6/dist-packages (from kaggle) (1.15.0)\n",
            "Requirement already satisfied: python-slugify in /usr/local/lib/python3.6/dist-packages (from kaggle) (4.0.1)\n",
            "Requirement already satisfied: requests in /usr/local/lib/python3.6/dist-packages (from kaggle) (2.23.0)\n",
            "Requirement already satisfied: certifi in /usr/local/lib/python3.6/dist-packages (from kaggle) (2020.12.5)\n",
            "Requirement already satisfied: text-unidecode>=1.3 in /usr/local/lib/python3.6/dist-packages (from python-slugify->kaggle) (1.3)\n",
            "Requirement already satisfied: chardet<4,>=3.0.2 in /usr/local/lib/python3.6/dist-packages (from requests->kaggle) (3.0.4)\n",
            "Requirement already satisfied: idna<3,>=2.5 in /usr/local/lib/python3.6/dist-packages (from requests->kaggle) (2.10)\n"
          ],
          "name": "stdout"
        },
        {
          "output_type": "display_data",
          "data": {
            "text/html": [
              "\n",
              "     <input type=\"file\" id=\"files-5f895d94-5382-4756-b953-9081f7e5c7a8\" name=\"files[]\" multiple disabled\n",
              "        style=\"border:none\" />\n",
              "     <output id=\"result-5f895d94-5382-4756-b953-9081f7e5c7a8\">\n",
              "      Upload widget is only available when the cell has been executed in the\n",
              "      current browser session. Please rerun this cell to enable.\n",
              "      </output>\n",
              "      <script src=\"/nbextensions/google.colab/files.js\"></script> "
            ],
            "text/plain": [
              "<IPython.core.display.HTML object>"
            ]
          },
          "metadata": {
            "tags": []
          }
        },
        {
          "output_type": "stream",
          "text": [
            "Saving kaggle.json to kaggle.json\n"
          ],
          "name": "stdout"
        },
        {
          "output_type": "execute_result",
          "data": {
            "text/plain": [
              "{'kaggle.json': b'{\"username\":\"happybeagle\",\"key\":\"710b358482820650f28cf9dda7e0c8ff\"}'}"
            ]
          },
          "metadata": {
            "tags": []
          },
          "execution_count": 2
        }
      ]
    },
    {
      "cell_type": "code",
      "metadata": {
        "colab": {
          "base_uri": "https://localhost:8080/"
        },
        "id": "vtt0rTTzQx_d",
        "outputId": "6c4f8943-aa1e-4614-f769-571974ba4da9"
      },
      "source": [
        "!ls -lha kaggle.json"
      ],
      "execution_count": 3,
      "outputs": [
        {
          "output_type": "stream",
          "text": [
            "-rw-r--r-- 1 root root 67 Jan  9 10:07 kaggle.json\n"
          ],
          "name": "stdout"
        }
      ]
    },
    {
      "cell_type": "code",
      "metadata": {
        "id": "vSh7cRQhRemW"
      },
      "source": [
        "!mkdir -p ~/.kaggle\r\n",
        "!cp kaggle.json ~/.kaggle/\r\n",
        "!chmod 600 ~/.kaggle/kaggle.json"
      ],
      "execution_count": 4,
      "outputs": []
    },
    {
      "cell_type": "code",
      "metadata": {
        "colab": {
          "base_uri": "https://localhost:8080/"
        },
        "id": "royNEQ6-RvLN",
        "outputId": "3dc0c8db-3a11-44f5-f385-dcbe8e06bbb9"
      },
      "source": [
        "!kaggle competitions download -c digit-recognizer"
      ],
      "execution_count": 5,
      "outputs": [
        {
          "output_type": "stream",
          "text": [
            "Warning: Looks like you're using an outdated API Version, please consider updating (server 1.5.10 / client 1.5.4)\n",
            "Downloading train.csv.zip to /content\n",
            " 55% 5.00M/9.16M [00:00<00:00, 18.5MB/s]\n",
            "100% 9.16M/9.16M [00:00<00:00, 26.4MB/s]\n",
            "Downloading test.csv.zip to /content\n",
            " 82% 5.00M/6.09M [00:00<00:00, 26.9MB/s]\n",
            "100% 6.09M/6.09M [00:00<00:00, 29.8MB/s]\n",
            "Downloading sample_submission.csv to /content\n",
            "  0% 0.00/235k [00:00<?, ?B/s]\n",
            "100% 235k/235k [00:00<00:00, 121MB/s]\n"
          ],
          "name": "stdout"
        }
      ]
    },
    {
      "cell_type": "code",
      "metadata": {
        "colab": {
          "base_uri": "https://localhost:8080/"
        },
        "id": "lZqEQbWLSIE0",
        "outputId": "ef31eb1d-da04-4e3a-dd55-9f138ecb9e48"
      },
      "source": [
        "!ls\r\n",
        "!unzip test.csv.zip\r\n",
        "!unzip train.csv.zip"
      ],
      "execution_count": 6,
      "outputs": [
        {
          "output_type": "stream",
          "text": [
            "kaggle.json\t   sample_data\t\t  test.csv.zip\n",
            "MNIST_with_kaggle  sample_submission.csv  train.csv.zip\n",
            "Archive:  test.csv.zip\n",
            "  inflating: test.csv                \n",
            "Archive:  train.csv.zip\n",
            "  inflating: train.csv               \n"
          ],
          "name": "stdout"
        }
      ]
    },
    {
      "cell_type": "code",
      "metadata": {
        "colab": {
          "base_uri": "https://localhost:8080/"
        },
        "id": "xvGVgaf5SaWu",
        "outputId": "aad5468f-87c2-497e-c34f-b1211f515263"
      },
      "source": [
        "!ls\r\n",
        "!mkdir ./data\r\n",
        "!mv test.csv ./data/\r\n",
        "!mv train.csv ./data/\r\n",
        "!mv sample_submission.csv ./data/"
      ],
      "execution_count": 7,
      "outputs": [
        {
          "output_type": "stream",
          "text": [
            "kaggle.json\t   sample_data\t\t  test.csv\ttrain.csv\n",
            "MNIST_with_kaggle  sample_submission.csv  test.csv.zip\ttrain.csv.zip\n"
          ],
          "name": "stdout"
        }
      ]
    },
    {
      "cell_type": "code",
      "metadata": {
        "colab": {
          "base_uri": "https://localhost:8080/"
        },
        "id": "ERt3K_ZGS1KR",
        "outputId": "fd60e329-0e5a-4706-caa0-fcef2686ef0d"
      },
      "source": [
        "!ls ./data/"
      ],
      "execution_count": 8,
      "outputs": [
        {
          "output_type": "stream",
          "text": [
            "sample_submission.csv  test.csv  train.csv\n"
          ],
          "name": "stdout"
        }
      ]
    },
    {
      "cell_type": "code",
      "metadata": {
        "colab": {
          "base_uri": "https://localhost:8080/"
        },
        "id": "f73MH2hqTn8B",
        "outputId": "81a104b9-e644-4680-bd5f-0d8eb063142c"
      },
      "source": [
        "import numpy as np\r\n",
        "import pandas as pd\r\n",
        "\r\n",
        "\r\n",
        "import torch\r\n",
        "import torch.nn as nn\r\n",
        "import torch.optim as optim\r\n",
        "from torch.autograd import Variable\r\n",
        "from sklearn.model_selection import train_test_split\r\n",
        "from torchvision import transforms, models\r\n",
        "from torch.utils.data import DataLoader\r\n",
        "\r\n",
        "\r\n",
        "import os\r\n",
        "print(os.listdir(\"./data\"))\r\n",
        "device = torch.device('cuda' if torch.cuda.is_available() else 'cpu')"
      ],
      "execution_count": 9,
      "outputs": [
        {
          "output_type": "stream",
          "text": [
            "['train.csv', 'sample_submission.csv', 'test.csv']\n"
          ],
          "name": "stdout"
        }
      ]
    },
    {
      "cell_type": "code",
      "metadata": {
        "id": "lsFxf-5n1W5w"
      },
      "source": [
        "\r\n",
        "train_data = pd.read_csv(r\"./data/train.csv\",dtype = np.float32)\r\n",
        "\r\n",
        "\r\n",
        "#split feature and label\r\n",
        "label = train_data.label.values\r\n",
        "features = train_data.loc[:, train_data.columns != \"label\"].values/255.0\r\n",
        "\r\n",
        "train_features, test_features, train_label, test_label = train_test_split(features, label,\r\n",
        "                                                                          test_size = 0.2,\r\n",
        "                                                                          random_state = 42)\r\n",
        "\r\n",
        "trainFeatures = torch.from_numpy(train_features)\r\n",
        "trainLabel = torch.from_numpy(train_label).type(torch.LongTensor)\r\n",
        "\r\n",
        "testFeatures = torch.from_numpy(test_features)\r\n",
        "testLabel = torch.from_numpy(test_label).type(torch.LongTensor)\r\n",
        "\r\n",
        "#batch size, epoch and Iteration\r\n",
        "batch_size = 100\r\n",
        "n_iterators = 100000\r\n",
        "num_epochs = n_iterators / (len(train_features) / batch_size)\r\n",
        "num_epochs = int(num_epochs) \r\n",
        "\r\n",
        "# Pytorch datasets\r\n",
        "train = torch.utils.data.TensorDataset(trainFeatures, trainLabel)\r\n",
        "\r\n",
        "test = torch.utils.data.TensorDataset(testFeatures, testLabel)\r\n",
        "\r\n",
        "# data loader\r\n",
        "train_loader = DataLoader(train, batch_size=batch_size, shuffle = False)\r\n",
        "test_loader = DataLoader(test, batch_size=batch_size, shuffle=False)\r\n"
      ],
      "execution_count": 30,
      "outputs": []
    },
    {
      "cell_type": "code",
      "metadata": {
        "id": "RNRcSz8fYidc"
      },
      "source": [
        "#Logistic regression\r\n",
        "\r\n",
        "class LogisticRegressionModel(nn.Module):\r\n",
        "    def __init__(self, input_dim, output_dim):\r\n",
        "        super(LogisticRegressionModel, self).__init__()\r\n",
        "        self.linear = nn.Linear(input_dim, output_dim)\r\n",
        "\r\n",
        "    def forward(self, x):\r\n",
        "        out = self.linear(x)\r\n",
        "        return out"
      ],
      "execution_count": 31,
      "outputs": []
    },
    {
      "cell_type": "code",
      "metadata": {
        "colab": {
          "base_uri": "https://localhost:8080/"
        },
        "id": "yrOv_Az8hrE1",
        "outputId": "ac0bf038-f005-436c-f04b-a11ae7436bed"
      },
      "source": [
        "input_dim = 28 * 28\r\n",
        "output_dim = 10\r\n",
        "\r\n",
        "\r\n",
        "model = LogisticRegressionModel(input_dim, output_dim)\r\n",
        "\r\n",
        "error = nn.CrossEntropyLoss()\r\n",
        "\r\n",
        "learning_rate = 0.001\r\n",
        "optimizer = optim.SGD(model.parameters(), lr=learning_rate)\r\n",
        "count = 0\r\n",
        "for e in range(num_epochs):\r\n",
        "    for i, (images, labels) in enumerate(train_loader):\r\n",
        "        Train = Variable(images.view(-1, 28 * 28))\r\n",
        "        labels = Variable(labels)\r\n",
        "        \r\n",
        "        optimizer.zero_grad()\r\n",
        "        outputs = model(Train)\r\n",
        "\r\n",
        "        loss = error(outputs, labels)\r\n",
        "\r\n",
        "        loss.backward()\r\n",
        "\r\n",
        "        optimizer.step()\r\n",
        "        count += 1\r\n",
        "\r\n",
        "        if count % 50 == 0:\r\n",
        "            correct, total = 0, 0\r\n",
        "\r\n",
        "            for images, labels in test_loader:\r\n",
        "                test = Variable(images.view(-1, 28 * 28))\r\n",
        "                outputs = model(test)\r\n",
        "                predicted = torch.max(outputs.data, 1)[1]\r\n",
        "                total += len(labels)\r\n",
        "                correct += (predicted == labels).sum()\r\n",
        "\r\n",
        "            accuracy = 100 * correct / float(total)\r\n",
        "\r\n",
        "        if count % 500 == 0:\r\n",
        "            print(\"Iteration: {}  Loss : {}   Accuracy : {}%\".format(count, loss.data, accuracy))"
      ],
      "execution_count": 32,
      "outputs": [
        {
          "output_type": "stream",
          "text": [
            "Iteration: 500  Loss : 1.8341602087020874   Accuracy : 67.1547622680664%\n",
            "Iteration: 1000  Loss : 1.6048409938812256   Accuracy : 75.03571319580078%\n",
            "Iteration: 1500  Loss : 1.3026679754257202   Accuracy : 77.94047546386719%\n",
            "Iteration: 2000  Loss : 1.2123323678970337   Accuracy : 79.52381134033203%\n",
            "Iteration: 2500  Loss : 1.036089301109314   Accuracy : 80.6547622680664%\n",
            "Iteration: 3000  Loss : 0.9283428192138672   Accuracy : 81.58333587646484%\n",
            "Iteration: 3500  Loss : 0.9065825939178467   Accuracy : 82.35713958740234%\n",
            "Iteration: 4000  Loss : 0.7546180486679077   Accuracy : 82.83333587646484%\n",
            "Iteration: 4500  Loss : 0.9631974101066589   Accuracy : 83.36904907226562%\n",
            "Iteration: 5000  Loss : 0.8028979301452637   Accuracy : 83.76190185546875%\n",
            "Iteration: 5500  Loss : 0.7532106637954712   Accuracy : 84.14286041259766%\n",
            "Iteration: 6000  Loss : 0.8718149065971375   Accuracy : 84.38095092773438%\n",
            "Iteration: 6500  Loss : 0.671949028968811   Accuracy : 84.78571319580078%\n",
            "Iteration: 7000  Loss : 0.7082388997077942   Accuracy : 84.95237731933594%\n",
            "Iteration: 7500  Loss : 0.6324082612991333   Accuracy : 85.05952453613281%\n",
            "Iteration: 8000  Loss : 0.7456256747245789   Accuracy : 85.26190185546875%\n",
            "Iteration: 8500  Loss : 0.5515030026435852   Accuracy : 85.41666412353516%\n",
            "Iteration: 9000  Loss : 0.6647868156433105   Accuracy : 85.53571319580078%\n",
            "Iteration: 9500  Loss : 0.5266857743263245   Accuracy : 85.72618865966797%\n",
            "Iteration: 10000  Loss : 0.5255353450775146   Accuracy : 85.9047622680664%\n",
            "Iteration: 10500  Loss : 0.5355342626571655   Accuracy : 85.96428680419922%\n",
            "Iteration: 11000  Loss : 0.6096417307853699   Accuracy : 86.03571319580078%\n",
            "Iteration: 11500  Loss : 0.6790794134140015   Accuracy : 86.19047546386719%\n",
            "Iteration: 12000  Loss : 0.529377818107605   Accuracy : 86.30952453613281%\n",
            "Iteration: 12500  Loss : 0.5977383852005005   Accuracy : 86.39286041259766%\n",
            "Iteration: 13000  Loss : 0.623567521572113   Accuracy : 86.60713958740234%\n",
            "Iteration: 13500  Loss : 0.540351152420044   Accuracy : 86.63095092773438%\n",
            "Iteration: 14000  Loss : 0.6463934183120728   Accuracy : 86.78571319580078%\n",
            "Iteration: 14500  Loss : 0.4915791451931   Accuracy : 86.78571319580078%\n",
            "Iteration: 15000  Loss : 0.5127696990966797   Accuracy : 86.86904907226562%\n",
            "Iteration: 15500  Loss : 0.49138855934143066   Accuracy : 86.86904907226562%\n",
            "Iteration: 16000  Loss : 0.43731120228767395   Accuracy : 86.94047546386719%\n",
            "Iteration: 16500  Loss : 0.5370991826057434   Accuracy : 87.03571319580078%\n",
            "Iteration: 17000  Loss : 0.5585464835166931   Accuracy : 87.11904907226562%\n",
            "Iteration: 17500  Loss : 0.5011622309684753   Accuracy : 87.17857360839844%\n",
            "Iteration: 18000  Loss : 0.4817162752151489   Accuracy : 87.23809814453125%\n",
            "Iteration: 18500  Loss : 0.5100229978561401   Accuracy : 87.29762268066406%\n",
            "Iteration: 19000  Loss : 0.530483067035675   Accuracy : 87.4047622680664%\n",
            "Iteration: 19500  Loss : 0.5128400921821594   Accuracy : 87.41666412353516%\n",
            "Iteration: 20000  Loss : 0.5747450590133667   Accuracy : 87.52381134033203%\n",
            "Iteration: 20500  Loss : 0.5864518880844116   Accuracy : 87.53571319580078%\n",
            "Iteration: 21000  Loss : 0.5754187703132629   Accuracy : 87.5952377319336%\n",
            "Iteration: 21500  Loss : 0.5833171010017395   Accuracy : 87.6547622680664%\n",
            "Iteration: 22000  Loss : 0.6354836225509644   Accuracy : 87.75%\n",
            "Iteration: 22500  Loss : 0.5197115540504456   Accuracy : 87.73809814453125%\n",
            "Iteration: 23000  Loss : 0.49909403920173645   Accuracy : 87.79762268066406%\n",
            "Iteration: 23500  Loss : 0.47116467356681824   Accuracy : 87.8452377319336%\n",
            "Iteration: 24000  Loss : 0.4271688759326935   Accuracy : 87.91666412353516%\n",
            "Iteration: 24500  Loss : 0.48488491773605347   Accuracy : 87.97618865966797%\n",
            "Iteration: 25000  Loss : 0.4466392397880554   Accuracy : 88.01190185546875%\n",
            "Iteration: 25500  Loss : 0.3819507658481598   Accuracy : 88.07142639160156%\n",
            "Iteration: 26000  Loss : 0.3417719900608063   Accuracy : 88.11904907226562%\n",
            "Iteration: 26500  Loss : 0.5582483410835266   Accuracy : 88.10713958740234%\n",
            "Iteration: 27000  Loss : 0.43757060170173645   Accuracy : 88.1547622680664%\n",
            "Iteration: 27500  Loss : 0.4366665184497833   Accuracy : 88.17857360839844%\n",
            "Iteration: 28000  Loss : 0.5018038749694824   Accuracy : 88.22618865966797%\n",
            "Iteration: 28500  Loss : 0.40554773807525635   Accuracy : 88.32142639160156%\n",
            "Iteration: 29000  Loss : 0.432384192943573   Accuracy : 88.33333587646484%\n",
            "Iteration: 29500  Loss : 0.33982741832733154   Accuracy : 88.4047622680664%\n",
            "Iteration: 30000  Loss : 0.3283529281616211   Accuracy : 88.4047622680664%\n",
            "Iteration: 30500  Loss : 0.5201404094696045   Accuracy : 88.45237731933594%\n",
            "Iteration: 31000  Loss : 0.503470778465271   Accuracy : 88.48809814453125%\n",
            "Iteration: 31500  Loss : 0.39529427886009216   Accuracy : 88.51190185546875%\n",
            "Iteration: 32000  Loss : 0.5113162398338318   Accuracy : 88.54762268066406%\n",
            "Iteration: 32500  Loss : 0.5157248377799988   Accuracy : 88.57142639160156%\n",
            "Iteration: 33000  Loss : 0.4604603946208954   Accuracy : 88.57142639160156%\n",
            "Iteration: 33500  Loss : 0.5107586979866028   Accuracy : 88.60713958740234%\n",
            "Iteration: 34000  Loss : 0.5478808283805847   Accuracy : 88.67857360839844%\n",
            "Iteration: 34500  Loss : 0.40994536876678467   Accuracy : 88.70237731933594%\n",
            "Iteration: 35000  Loss : 0.4968644976615906   Accuracy : 88.71428680419922%\n",
            "Iteration: 35500  Loss : 0.3117726743221283   Accuracy : 88.73809814453125%\n",
            "Iteration: 36000  Loss : 0.43181368708610535   Accuracy : 88.77381134033203%\n",
            "Iteration: 36500  Loss : 0.3931354582309723   Accuracy : 88.80952453613281%\n",
            "Iteration: 37000  Loss : 0.4822331368923187   Accuracy : 88.76190185546875%\n",
            "Iteration: 37500  Loss : 0.47087574005126953   Accuracy : 88.83333587646484%\n",
            "Iteration: 38000  Loss : 0.367706835269928   Accuracy : 88.78571319580078%\n",
            "Iteration: 38500  Loss : 0.4407579004764557   Accuracy : 88.8452377319336%\n",
            "Iteration: 39000  Loss : 0.3110778331756592   Accuracy : 88.8452377319336%\n",
            "Iteration: 39500  Loss : 0.390250563621521   Accuracy : 88.89286041259766%\n",
            "Iteration: 40000  Loss : 0.5190737247467041   Accuracy : 88.89286041259766%\n",
            "Iteration: 40500  Loss : 0.36492928862571716   Accuracy : 88.91666412353516%\n",
            "Iteration: 41000  Loss : 0.4451919198036194   Accuracy : 88.9047622680664%\n",
            "Iteration: 41500  Loss : 0.2754991352558136   Accuracy : 88.9047622680664%\n",
            "Iteration: 42000  Loss : 0.30021435022354126   Accuracy : 88.92857360839844%\n",
            "Iteration: 42500  Loss : 0.38239479064941406   Accuracy : 88.92857360839844%\n",
            "Iteration: 43000  Loss : 0.4409695863723755   Accuracy : 88.94047546386719%\n",
            "Iteration: 43500  Loss : 0.27515605092048645   Accuracy : 88.95237731933594%\n",
            "Iteration: 44000  Loss : 0.3998529314994812   Accuracy : 88.98809814453125%\n",
            "Iteration: 44500  Loss : 0.3973597586154938   Accuracy : 89.02381134033203%\n",
            "Iteration: 45000  Loss : 0.2165663093328476   Accuracy : 89.04762268066406%\n",
            "Iteration: 45500  Loss : 0.37878817319869995   Accuracy : 89.05952453613281%\n",
            "Iteration: 46000  Loss : 0.2354593127965927   Accuracy : 89.05952453613281%\n",
            "Iteration: 46500  Loss : 0.5918296575546265   Accuracy : 89.0952377319336%\n",
            "Iteration: 47000  Loss : 0.35236430168151855   Accuracy : 89.10713958740234%\n",
            "Iteration: 47500  Loss : 0.38532066345214844   Accuracy : 89.14286041259766%\n",
            "Iteration: 48000  Loss : 0.5131546258926392   Accuracy : 89.14286041259766%\n",
            "Iteration: 48500  Loss : 0.3116120398044586   Accuracy : 89.17857360839844%\n",
            "Iteration: 49000  Loss : 0.39947426319122314   Accuracy : 89.17857360839844%\n",
            "Iteration: 49500  Loss : 0.33058130741119385   Accuracy : 89.17857360839844%\n",
            "Iteration: 50000  Loss : 0.46764814853668213   Accuracy : 89.22618865966797%\n",
            "Iteration: 50500  Loss : 0.3220377266407013   Accuracy : 89.19047546386719%\n",
            "Iteration: 51000  Loss : 0.37246400117874146   Accuracy : 89.21428680419922%\n",
            "Iteration: 51500  Loss : 0.3259607255458832   Accuracy : 89.23809814453125%\n",
            "Iteration: 52000  Loss : 0.29731082916259766   Accuracy : 89.26190185546875%\n",
            "Iteration: 52500  Loss : 0.2969193458557129   Accuracy : 89.25%\n",
            "Iteration: 53000  Loss : 0.3762005865573883   Accuracy : 89.29762268066406%\n",
            "Iteration: 53500  Loss : 0.4686805307865143   Accuracy : 89.26190185546875%\n",
            "Iteration: 54000  Loss : 0.34950798749923706   Accuracy : 89.30952453613281%\n",
            "Iteration: 54500  Loss : 0.4253876507282257   Accuracy : 89.28571319580078%\n",
            "Iteration: 55000  Loss : 0.4470902681350708   Accuracy : 89.3452377319336%\n",
            "Iteration: 55500  Loss : 0.39324790239334106   Accuracy : 89.33333587646484%\n",
            "Iteration: 56000  Loss : 0.5449126958847046   Accuracy : 89.4047622680664%\n",
            "Iteration: 56500  Loss : 0.32458505034446716   Accuracy : 89.35713958740234%\n",
            "Iteration: 57000  Loss : 0.3557944893836975   Accuracy : 89.44047546386719%\n",
            "Iteration: 57500  Loss : 0.35421276092529297   Accuracy : 89.4047622680664%\n",
            "Iteration: 58000  Loss : 0.28236740827560425   Accuracy : 89.46428680419922%\n",
            "Iteration: 58500  Loss : 0.4013698697090149   Accuracy : 89.41666412353516%\n",
            "Iteration: 59000  Loss : 0.4566742777824402   Accuracy : 89.47618865966797%\n",
            "Iteration: 59500  Loss : 0.3511323928833008   Accuracy : 89.46428680419922%\n",
            "Iteration: 60000  Loss : 0.35481366515159607   Accuracy : 89.48809814453125%\n",
            "Iteration: 60500  Loss : 0.38197118043899536   Accuracy : 89.5%\n",
            "Iteration: 61000  Loss : 0.39074984192848206   Accuracy : 89.51190185546875%\n",
            "Iteration: 61500  Loss : 0.39734137058258057   Accuracy : 89.5%\n",
            "Iteration: 62000  Loss : 0.43361523747444153   Accuracy : 89.53571319580078%\n",
            "Iteration: 62500  Loss : 0.4608307182788849   Accuracy : 89.53571319580078%\n",
            "Iteration: 63000  Loss : 0.4724445343017578   Accuracy : 89.54762268066406%\n",
            "Iteration: 63500  Loss : 0.4857218861579895   Accuracy : 89.55952453613281%\n",
            "Iteration: 64000  Loss : 0.5231878757476807   Accuracy : 89.55952453613281%\n",
            "Iteration: 64500  Loss : 0.37600940465927124   Accuracy : 89.58333587646484%\n",
            "Iteration: 65000  Loss : 0.3842185139656067   Accuracy : 89.57142639160156%\n",
            "Iteration: 65500  Loss : 0.40105992555618286   Accuracy : 89.5952377319336%\n",
            "Iteration: 66000  Loss : 0.32871732115745544   Accuracy : 89.58333587646484%\n",
            "Iteration: 66500  Loss : 0.4133172333240509   Accuracy : 89.58333587646484%\n",
            "Iteration: 67000  Loss : 0.37227123975753784   Accuracy : 89.57142639160156%\n",
            "Iteration: 67500  Loss : 0.33161914348602295   Accuracy : 89.5952377319336%\n",
            "Iteration: 68000  Loss : 0.24823501706123352   Accuracy : 89.5952377319336%\n",
            "Iteration: 68500  Loss : 0.46986502408981323   Accuracy : 89.5952377319336%\n",
            "Iteration: 69000  Loss : 0.34371188282966614   Accuracy : 89.5952377319336%\n",
            "Iteration: 69500  Loss : 0.3365590274333954   Accuracy : 89.61904907226562%\n",
            "Iteration: 70000  Loss : 0.4229194223880768   Accuracy : 89.5952377319336%\n",
            "Iteration: 70500  Loss : 0.3097571134567261   Accuracy : 89.6547622680664%\n",
            "Iteration: 71000  Loss : 0.34535595774650574   Accuracy : 89.6547622680664%\n",
            "Iteration: 71500  Loss : 0.2380266934633255   Accuracy : 89.70237731933594%\n",
            "Iteration: 72000  Loss : 0.24417033791542053   Accuracy : 89.70237731933594%\n",
            "Iteration: 72500  Loss : 0.4768378436565399   Accuracy : 89.73809814453125%\n",
            "Iteration: 73000  Loss : 0.45386093854904175   Accuracy : 89.73809814453125%\n",
            "Iteration: 73500  Loss : 0.33997729420661926   Accuracy : 89.75%\n",
            "Iteration: 74000  Loss : 0.4377482533454895   Accuracy : 89.76190185546875%\n",
            "Iteration: 74500  Loss : 0.451507568359375   Accuracy : 89.79762268066406%\n",
            "Iteration: 75000  Loss : 0.3861406445503235   Accuracy : 89.77381134033203%\n",
            "Iteration: 75500  Loss : 0.4381105899810791   Accuracy : 89.78571319580078%\n",
            "Iteration: 76000  Loss : 0.5080870985984802   Accuracy : 89.77381134033203%\n",
            "Iteration: 76500  Loss : 0.3242109417915344   Accuracy : 89.76190185546875%\n",
            "Iteration: 77000  Loss : 0.42043834924697876   Accuracy : 89.78571319580078%\n",
            "Iteration: 77500  Loss : 0.24505780637264252   Accuracy : 89.77381134033203%\n",
            "Iteration: 78000  Loss : 0.3444284498691559   Accuracy : 89.79762268066406%\n",
            "Iteration: 78500  Loss : 0.3400137722492218   Accuracy : 89.78571319580078%\n",
            "Iteration: 79000  Loss : 0.4131334722042084   Accuracy : 89.79762268066406%\n",
            "Iteration: 79500  Loss : 0.40536725521087646   Accuracy : 89.79762268066406%\n",
            "Iteration: 80000  Loss : 0.3080495297908783   Accuracy : 89.82142639160156%\n",
            "Iteration: 80500  Loss : 0.4097386598587036   Accuracy : 89.82142639160156%\n",
            "Iteration: 81000  Loss : 0.24832141399383545   Accuracy : 89.83333587646484%\n",
            "Iteration: 81500  Loss : 0.3089022636413574   Accuracy : 89.82142639160156%\n",
            "Iteration: 82000  Loss : 0.4796512722969055   Accuracy : 89.8452377319336%\n",
            "Iteration: 82500  Loss : 0.3133222460746765   Accuracy : 89.83333587646484%\n",
            "Iteration: 83000  Loss : 0.3813248574733734   Accuracy : 89.86904907226562%\n",
            "Iteration: 83500  Loss : 0.21561214327812195   Accuracy : 89.82142639160156%\n",
            "Iteration: 84000  Loss : 0.23964279890060425   Accuracy : 89.88095092773438%\n",
            "Iteration: 84500  Loss : 0.3431337773799896   Accuracy : 89.86904907226562%\n",
            "Iteration: 85000  Loss : 0.3716464638710022   Accuracy : 89.89286041259766%\n",
            "Iteration: 85500  Loss : 0.21620656549930573   Accuracy : 89.88095092773438%\n",
            "Iteration: 86000  Loss : 0.34533455967903137   Accuracy : 89.91666412353516%\n",
            "Iteration: 86500  Loss : 0.36280813813209534   Accuracy : 89.91666412353516%\n",
            "Iteration: 87000  Loss : 0.16786375641822815   Accuracy : 89.91666412353516%\n",
            "Iteration: 87500  Loss : 0.33018958568573   Accuracy : 89.94047546386719%\n",
            "Iteration: 88000  Loss : 0.18736915290355682   Accuracy : 89.92857360839844%\n",
            "Iteration: 88500  Loss : 0.5612273812294006   Accuracy : 89.96428680419922%\n",
            "Iteration: 89000  Loss : 0.29410839080810547   Accuracy : 90.0%\n",
            "Iteration: 89500  Loss : 0.35082530975341797   Accuracy : 89.98809814453125%\n",
            "Iteration: 90000  Loss : 0.4625798761844635   Accuracy : 89.98809814453125%\n",
            "Iteration: 90500  Loss : 0.2640444338321686   Accuracy : 89.98809814453125%\n",
            "Iteration: 91000  Loss : 0.3601560890674591   Accuracy : 90.01190185546875%\n",
            "Iteration: 91500  Loss : 0.28855621814727783   Accuracy : 90.02381134033203%\n",
            "Iteration: 92000  Loss : 0.42185622453689575   Accuracy : 89.98809814453125%\n",
            "Iteration: 92500  Loss : 0.28742527961730957   Accuracy : 90.02381134033203%\n",
            "Iteration: 93000  Loss : 0.32204490900039673   Accuracy : 90.01190185546875%\n",
            "Iteration: 93500  Loss : 0.2904245853424072   Accuracy : 90.01190185546875%\n",
            "Iteration: 94000  Loss : 0.257651150226593   Accuracy : 90.01190185546875%\n",
            "Iteration: 94500  Loss : 0.2553819417953491   Accuracy : 90.05952453613281%\n",
            "Iteration: 95000  Loss : 0.33285608887672424   Accuracy : 90.03571319580078%\n",
            "Iteration: 95500  Loss : 0.4188118278980255   Accuracy : 90.07142639160156%\n",
            "Iteration: 96000  Loss : 0.3164255619049072   Accuracy : 90.05952453613281%\n",
            "Iteration: 96500  Loss : 0.39052721858024597   Accuracy : 90.08333587646484%\n",
            "Iteration: 97000  Loss : 0.4049442708492279   Accuracy : 90.0952377319336%\n",
            "Iteration: 97500  Loss : 0.36466899514198303   Accuracy : 90.0952377319336%\n",
            "Iteration: 98000  Loss : 0.5310320854187012   Accuracy : 90.08333587646484%\n",
            "Iteration: 98500  Loss : 0.29125285148620605   Accuracy : 90.10713958740234%\n",
            "Iteration: 99000  Loss : 0.3140193223953247   Accuracy : 90.10713958740234%\n",
            "Iteration: 99500  Loss : 0.32629409432411194   Accuracy : 90.14286041259766%\n"
          ],
          "name": "stdout"
        }
      ]
    },
    {
      "cell_type": "code",
      "metadata": {
        "id": "UXV0v1lnQEP1"
      },
      "source": [
        "submit_data = pd.read_csv('./data/test.csv',dtype = np.float32)\r\n",
        "submit_data = submit_data.values/255.0\r\n",
        "submit_loader = torch.utils.data.DataLoader(dataset=submit_data, batch_size=batch_size, shuffle=False)"
      ],
      "execution_count": 34,
      "outputs": []
    },
    {
      "cell_type": "code",
      "metadata": {
        "id": "BKBthOOt0YpR"
      },
      "source": [
        "def prediction(data_loader):\r\n",
        "    model.eval()\r\n",
        "    test_pred = torch.LongTensor()\r\n",
        "\r\n",
        "    for i, data in enumerate(data_loader):\r\n",
        "        data = Variable(data.view(-1, 28*28))\r\n",
        "        \r\n",
        "        output = model(data)\r\n",
        "        pred = torch.max(output.data, 1)[1]\r\n",
        "\r\n",
        "        test_pred = torch.cat((test_pred, pred), dim=0)\r\n",
        "\r\n",
        "    return test_pred"
      ],
      "execution_count": 37,
      "outputs": []
    },
    {
      "cell_type": "code",
      "metadata": {
        "colab": {
          "base_uri": "https://localhost:8080/",
          "height": 204
        },
        "id": "NOkO4HlM1mwf",
        "outputId": "9d33d960-d2ad-459f-e40d-35b4bc076f0f"
      },
      "source": [
        "test_pred = prediction(submit_loader)\r\n",
        "\r\n",
        "output_df = pd.DataFrame(np.c_[np.arange(1, len(submit_data)+1)[:,None], test_pred.numpy()], \r\n",
        "                      columns=['ImageId', 'Label'])\r\n",
        "\r\n",
        "output_df.head()"
      ],
      "execution_count": 41,
      "outputs": [
        {
          "output_type": "execute_result",
          "data": {
            "text/html": [
              "<div>\n",
              "<style scoped>\n",
              "    .dataframe tbody tr th:only-of-type {\n",
              "        vertical-align: middle;\n",
              "    }\n",
              "\n",
              "    .dataframe tbody tr th {\n",
              "        vertical-align: top;\n",
              "    }\n",
              "\n",
              "    .dataframe thead th {\n",
              "        text-align: right;\n",
              "    }\n",
              "</style>\n",
              "<table border=\"1\" class=\"dataframe\">\n",
              "  <thead>\n",
              "    <tr style=\"text-align: right;\">\n",
              "      <th></th>\n",
              "      <th>ImageId</th>\n",
              "      <th>Label</th>\n",
              "    </tr>\n",
              "  </thead>\n",
              "  <tbody>\n",
              "    <tr>\n",
              "      <th>0</th>\n",
              "      <td>1</td>\n",
              "      <td>2</td>\n",
              "    </tr>\n",
              "    <tr>\n",
              "      <th>1</th>\n",
              "      <td>2</td>\n",
              "      <td>0</td>\n",
              "    </tr>\n",
              "    <tr>\n",
              "      <th>2</th>\n",
              "      <td>3</td>\n",
              "      <td>9</td>\n",
              "    </tr>\n",
              "    <tr>\n",
              "      <th>3</th>\n",
              "      <td>4</td>\n",
              "      <td>9</td>\n",
              "    </tr>\n",
              "    <tr>\n",
              "      <th>4</th>\n",
              "      <td>5</td>\n",
              "      <td>3</td>\n",
              "    </tr>\n",
              "  </tbody>\n",
              "</table>\n",
              "</div>"
            ],
            "text/plain": [
              "   ImageId  Label\n",
              "0        1      2\n",
              "1        2      0\n",
              "2        3      9\n",
              "3        4      9\n",
              "4        5      3"
            ]
          },
          "metadata": {
            "tags": []
          },
          "execution_count": 41
        }
      ]
    },
    {
      "cell_type": "code",
      "metadata": {
        "id": "-lM2Cjos9C4n"
      },
      "source": [
        "output_df.to_csv('submission.csv', index=False)"
      ],
      "execution_count": 42,
      "outputs": []
    }
  ]
}